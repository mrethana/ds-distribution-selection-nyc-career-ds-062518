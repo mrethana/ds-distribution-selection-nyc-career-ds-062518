{
 "cells": [
  {
   "cell_type": "markdown",
   "metadata": {},
   "source": [
    "# Distribution Selection\n",
    "\n",
    "We've covered some important distributions thus far: binomial, uniform, poisson, geometric, exponential, and of course, the normal distribution! Now it's time to put those all together and practice selecting the appropriate distribution for various scenarios.  \n",
    "  \n",
    "Here's a brief recap:  \n",
    "\n",
    "**Binomial Distribution**  \n",
    "Given the probability of success (such as flipping a coin; Heads vs Tails) what is the probability of 2 successes on 5 trials?  \n",
    "  \n",
    "**Uniform Distribution**  \n",
    "Everything has equal probability of occuring.  \n",
    "  \n",
    "**Poisson Distribution**  \n",
    "Useful for calculating the probability of a discrete number of events occuring during a given time period. (Generally used when this number is small; as the average grows large the normal distribution becomes a good approximation.)  \n",
    "  \n",
    "**Geometric Distribution**  \n",
    "Related the binomial distribution and bernoulli trials. Rather then asking the probability of X success in Y trials, asks for the probability that the first success is on the nth trial.  \n",
    "  \n",
    "**Exponential Distribution**  \n",
    "Has a memoryless property where the probability of success in the next block of time is the same whether or not another success just happened, or a substantial period of time has already passed. *If the total expected number of events is poisson distributed, the time between events is exponentially distributed.*  \n",
    "  \n",
    "**Normal Distribution**  \n",
    "The classic [symmetrical] bell shaped curve. Also known as the Gaussian distribution. Often the assumed distribution for unknown variables (including error).  "
   ]
  },
  {
   "cell_type": "markdown",
   "metadata": {},
   "source": [
    "# Car Sales\n",
    "A car sales person sells an average of 2 cars per week. What's the probability that he/she sells 4 in a given week?"
   ]
  },
  {
   "cell_type": "code",
   "execution_count": 1,
   "metadata": {},
   "outputs": [
    {
     "data": {
      "text/plain": [
       "0.09022352215774178"
      ]
     },
     "execution_count": 1,
     "metadata": {},
     "output_type": "execute_result"
    }
   ],
   "source": [
    "import math\n",
    "import numpy as np\n",
    "from scipy.stats import poisson\n",
    "#poisson or binomial\n",
    "poisson.pmf(4,2)\n"
   ]
  },
  {
   "cell_type": "markdown",
   "metadata": {},
   "source": [
    "# Car Sales 2\n",
    "What's the probability that the car salesperson sells 0 cars in a given week?"
   ]
  },
  {
   "cell_type": "code",
   "execution_count": 2,
   "metadata": {},
   "outputs": [
    {
     "data": {
      "text/plain": [
       "0.1353352832366127"
      ]
     },
     "execution_count": 2,
     "metadata": {},
     "output_type": "execute_result"
    }
   ],
   "source": [
    "poisson.pmf(0,2)"
   ]
  },
  {
   "cell_type": "markdown",
   "metadata": {},
   "source": [
    "# Car Sales 3\n",
    "Whats' the probability that the car salesperson sells 0 cars in 2 consecutive weeks?"
   ]
  },
  {
   "cell_type": "code",
   "execution_count": null,
   "metadata": {},
   "outputs": [],
   "source": [
    "Pr(X=k)=C(n,k)pk(1−p)n−k"
   ]
  },
  {
   "cell_type": "code",
   "execution_count": 3,
   "metadata": {},
   "outputs": [
    {
     "data": {
      "text/plain": [
       "0.018315638888734182"
      ]
     },
     "execution_count": 3,
     "metadata": {},
     "output_type": "execute_result"
    }
   ],
   "source": [
    "p = poisson.pmf(0,2)\n",
    "# geometric\n",
    "p * p\n"
   ]
  },
  {
   "cell_type": "markdown",
   "metadata": {},
   "source": [
    "# Car Sales 4!\n",
    "The sales associate is worried about not getting paid for a period of time. What's the probability that 2 weeks (or more) pass between selling one car and the next?"
   ]
  },
  {
   "cell_type": "code",
   "execution_count": 18,
   "metadata": {},
   "outputs": [],
   "source": [
    "def exp_cdf(y, beta):\n",
    "    prob = 1 - np.exp(-y/beta)\n",
    "    return prob"
   ]
  },
  {
   "cell_type": "code",
   "execution_count": 20,
   "metadata": {},
   "outputs": [
    {
     "data": {
      "text/plain": [
       "0.01831563888873422"
      ]
     },
     "execution_count": 20,
     "metadata": {},
     "output_type": "execute_result"
    }
   ],
   "source": [
    "1 - exp_cdf(2,1/2)"
   ]
  },
  {
   "cell_type": "code",
   "execution_count": null,
   "metadata": {},
   "outputs": [],
   "source": [
    "#or 1 - st.expon.cdf(2, scale=0.5)"
   ]
  },
  {
   "cell_type": "markdown",
   "metadata": {},
   "source": [
    "# SAT Scores\n",
    "Below is a sample of SAT scores (yes SAT scores are now out of 2400 not 1600):\n",
    "Assuming the sample is representative, what would be the estimated percentile rank be of someone who scored a 2000?"
   ]
  },
  {
   "cell_type": "code",
   "execution_count": 8,
   "metadata": {},
   "outputs": [],
   "source": [
    "import numpy as np\n",
    "import scipy"
   ]
  },
  {
   "cell_type": "code",
   "execution_count": 9,
   "metadata": {},
   "outputs": [],
   "source": [
    " scores = [1710, 1460,2060,1010,1690,1080,1940,1050,1020,1280,\n",
    " 1240,1570,1690,910,1570,1440,1530,1700,1750,1320,\n",
    " 2050,1430,1340,960,1480,890,1620,1280,1750, 1490]"
   ]
  },
  {
   "cell_type": "code",
   "execution_count": 11,
   "metadata": {},
   "outputs": [
    {
     "data": {
      "text/plain": [
       "0.9578688788330638"
      ]
     },
     "execution_count": 11,
     "metadata": {},
     "output_type": "execute_result"
    }
   ],
   "source": [
    "mean = np.mean(scores)\n",
    "std = np.std(scores)\n",
    "1- scipy.stats.norm.sf((2000-mean)/std)"
   ]
  },
  {
   "cell_type": "markdown",
   "metadata": {},
   "source": [
    "# Coin Flips\n",
    "Assuming that you're using a fair coin, what's the probability of flipping 8 heads on 10 flips?"
   ]
  },
  {
   "cell_type": "code",
   "execution_count": 12,
   "metadata": {},
   "outputs": [],
   "source": [
    "import numpy as np\n",
    "from scipy.special import comb\n",
    "import matplotlib.pyplot as plt\n",
    "import math"
   ]
  },
  {
   "cell_type": "code",
   "execution_count": null,
   "metadata": {},
   "outputs": [],
   "source": [
    "#Pr(X=k)=C(n,k)pk(1−p)n−k\n"
   ]
  },
  {
   "cell_type": "code",
   "execution_count": 15,
   "metadata": {},
   "outputs": [
    {
     "data": {
      "text/plain": [
       "0.0439453125"
      ]
     },
     "execution_count": 15,
     "metadata": {},
     "output_type": "execute_result"
    }
   ],
   "source": [
    "#binomial\n",
    "comb(10,8) * .5**8 * (.5)**2"
   ]
  },
  {
   "cell_type": "markdown",
   "metadata": {},
   "source": [
    "# Coin Flips 2\n",
    "What's the probability that you have to flip a coin 5 times in order to get the first head?"
   ]
  },
  {
   "cell_type": "code",
   "execution_count": 13,
   "metadata": {},
   "outputs": [
    {
     "data": {
      "text/plain": [
       "0.03125"
      ]
     },
     "execution_count": 13,
     "metadata": {},
     "output_type": "execute_result"
    }
   ],
   "source": [
    ".5 * .5 * .5 * .5 * .5 #geometric"
   ]
  },
  {
   "cell_type": "markdown",
   "metadata": {},
   "source": [
    "# Trains\n",
    "Assuming the train system is on a perfect schedule where trains show up exactly every 10 minutes (ignoring reality).\n",
    "What is the probability that a rider who randomly shows up has to wait at least 3 minutes for a train?"
   ]
  },
  {
   "cell_type": "code",
   "execution_count": 17,
   "metadata": {},
   "outputs": [
    {
     "data": {
      "text/plain": [
       "0.7"
      ]
     },
     "execution_count": 17,
     "metadata": {},
     "output_type": "execute_result"
    }
   ],
   "source": [
    "7/10 #continuous"
   ]
  },
  {
   "cell_type": "code",
   "execution_count": null,
   "metadata": {},
   "outputs": [],
   "source": []
  }
 ],
 "metadata": {
  "kernelspec": {
   "display_name": "Python 3",
   "language": "python",
   "name": "python3"
  },
  "language_info": {
   "codemirror_mode": {
    "name": "ipython",
    "version": 3
   },
   "file_extension": ".py",
   "mimetype": "text/x-python",
   "name": "python",
   "nbconvert_exporter": "python",
   "pygments_lexer": "ipython3",
   "version": "3.6.5"
  }
 },
 "nbformat": 4,
 "nbformat_minor": 2
}
